{
 "cells": [
  {
   "cell_type": "markdown",
   "metadata": {},
   "source": [
    "RHI+GH"
   ]
  },
  {
   "cell_type": "markdown",
   "metadata": {},
   "source": [
    "<br> \n",
    "<br> [01_RHI_INTERFACE_part_1](https://www.youtube.com/watch?v=dVmmRUGFYjM)\n",
    "<br> [01_RHI_INTERFACE_part_2](https://youtu.be/S6o3bngwPqc)\n",
    "<br> [01_RHI_INTERFACE_part_3]\n",
    "<br> \n",
    "<br> [02_RHI_GEOMETRY_POINTS+CURVES]\n",
    "<br> \n",
    "<br> [03_RHI_GEOMETRY_PART_SURFACES+SOLIDS]\n",
    "<br> \n",
    "<br> [04_GH_INTERFACE]\n",
    "<br> \n",
    "<br> [05_GH_LOCAL_BIM_part_1](https://www.youtube.com/watch?v=8eRwrfCPHx8)\n",
    "<br> [05_GH_LOCAL_BIM_part_2](https://www.youtube.com/watch?v=c3xXDKjpm3o)\n",
    "<br> [05_GH_LOCAL_BIM_part_3](https://www.youtube.com/watch?v=A75Ps-UNZ1c)\n",
    "<br> \n",
    "<br> [06_GH_SCHOOL_part_1](https://www.youtube.com/watch?v=REqGUU8FXQg)\n",
    "<br> [06_GH_SCHOOL_part_2](https://www.youtube.com/watch?v=xmEmNuRXZt8)\n",
    "<br> \n",
    "<br> [07_GH_LISTS](https://www.youtube.com/watch?v=ZxlHOKQklkA)\n",
    "<br> \n",
    "<br> [08_GH_PATTERNS](https://www.youtube.com/watch?v=Wypx43tZ8CE)"
   ]
  }
 ],
 "metadata": {
  "kernelspec": {
   "display_name": "Python 3",
   "language": "python",
   "name": "python3"
  },
  "language_info": {
   "codemirror_mode": {
    "name": "ipython",
    "version": 3
   },
   "file_extension": ".py",
   "mimetype": "text/x-python",
   "name": "python",
   "nbconvert_exporter": "python",
   "pygments_lexer": "ipython3",
   "version": "3.6.4"
  }
 },
 "nbformat": 4,
 "nbformat_minor": 2
}
